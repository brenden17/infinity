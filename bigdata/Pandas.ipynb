{
 "metadata": {
  "name": "Pandas"
 },
 "nbformat": 3,
 "nbformat_minor": 0,
 "worksheets": [
  {
   "cells": [
    {
     "cell_type": "markdown",
     "metadata": {},
     "source": [
      "Pandas Study with Python for data analysis\n",
      "===========================================\n"
     ]
    },
    {
     "cell_type": "markdown",
     "metadata": {},
     "source": [
      "Data structure\n",
      "==============\n",
      "* Series : 1-D labeled Numpy array (subclass of numpy.ndarray)\n",
      "* DataFrame : 2D table with row and column labels, potentially heterogenous colums\n",
      " * Each column can have a different dtype"
     ]
    },
    {
     "cell_type": "code",
     "collapsed": false,
     "input": [
      "import pandas\n",
      "import json\n",
      "\n",
      "path = '/media/main/data/source/pydata-book-master/ch02/'\n",
      "filename = 'usagov_bitly_data2012-03-16-1331923249.txt'\n",
      "records = [json.loads(line) for line in open(path+filename)]\n",
      "#records[0]['c']\n",
      "from pandas import DataFrame, Series\n",
      "frame = DataFrame(records)\n",
      "#frame['tz']\n",
      "#frame['tz'].value_counts() \n",
      "clean_tz = frame['tz'].fillna('Missing')\n",
      "tz_count = clean_tz.value_counts()\n",
      "tz_count[:10].plot(kind='barh', rot=0)\n"
     ],
     "language": "python",
     "metadata": {},
     "outputs": [],
     "prompt_number": 1
    },
    {
     "cell_type": "code",
     "collapsed": false,
     "input": [
      "import pandas as pd\n",
      "\n",
      "unames = ['user_id', 'gender', 'age', 'occupation', 'zip']\n",
      "users = pd.read_table(path + 'movielens/users.dat', sep='::', header=None, names=unames)\n",
      "rnames = ['user_id', 'movie_id', 'rating', 'timestamp']\n",
      "ratings = pd.read_table(path + 'movielens/ratings.dat', sep='::', header=None, names=rnames)\n",
      "mnames = ['movie_id', 'title', 'geners']\n",
      "movies = pd.read_table(path + 'movielens/movies.dat', sep='::', header=None, names=mnames)\n",
      "\n",
      "data = pd.merge(pd.merge(ratings, users), movies)"
     ],
     "language": "python",
     "metadata": {},
     "outputs": [
      {
       "output_type": "pyout",
       "prompt_number": 28,
       "text": [
        "<class 'pandas.core.frame.DataFrame'>\n",
        "Int64Index: 1000209 entries, 0 to 1000208\n",
        "Data columns:\n",
        "user_id       1000209  non-null values\n",
        "movie_id      1000209  non-null values\n",
        "rating        1000209  non-null values\n",
        "timestamp     1000209  non-null values\n",
        "gender        1000209  non-null values\n",
        "age           1000209  non-null values\n",
        "occupation    1000209  non-null values\n",
        "zip           1000209  non-null values\n",
        "title         1000209  non-null values\n",
        "geners        1000209  non-null values\n",
        "dtypes: int64(6), object(4)"
       ]
      }
     ],
     "prompt_number": 28
    },
    {
     "cell_type": "code",
     "collapsed": false,
     "input": [
      "names2010 = pd.read_csv(path + 'names/yob2010.txt', names=['name', 'sex', 'births'])\n",
      "names2010['name']"
     ],
     "language": "python",
     "metadata": {},
     "outputs": [
      {
       "output_type": "pyout",
       "prompt_number": 32,
       "text": [
        "0      Isabella\n",
        "1        Sophia\n",
        "2          Emma\n",
        "3        Olivia\n",
        "4           Ava\n",
        "5         Emily\n",
        "6       Abigail\n",
        "7       Madison\n",
        "8         Chloe\n",
        "9           Mia\n",
        "10      Addison\n",
        "11    Elizabeth\n",
        "12         Ella\n",
        "13      Natalie\n",
        "14     Samantha\n",
        "...\n",
        "33823       Zishan\n",
        "33824        Ziven\n",
        "33825        Zmari\n",
        "33826        Zoren\n",
        "33827       Zuhaib\n",
        "33828       Zyeire\n",
        "33829      Zygmunt\n",
        "33830     Zykerion\n",
        "33831        Zylar\n",
        "33832        Zylin\n",
        "33833      Zymaire\n",
        "33834       Zyonne\n",
        "33835    Zyquarius\n",
        "33836        Zyran\n",
        "33837        Zzyzx\n",
        "Name: name, Length: 33838"
       ]
      }
     ],
     "prompt_number": 32
    },
    {
     "cell_type": "code",
     "collapsed": false,
     "input": [
      "s = Series([1,2,-1,3], index=['a', 'b', 'c', 'd'])\n",
      "s_than_0 = s[s>0]\n"
     ],
     "language": "python",
     "metadata": {},
     "outputs": [
      {
       "ename": "NameError",
       "evalue": "name 'Series' is not defined",
       "output_type": "pyerr",
       "traceback": [
        "\u001b[1;31m---------------------------------------------------------------------------\u001b[0m\n\u001b[1;31mNameError\u001b[0m                                 Traceback (most recent call last)",
        "\u001b[1;32m<ipython-input-34-5ff90dd5a888>\u001b[0m in \u001b[0;36m<module>\u001b[1;34m()\u001b[0m\n\u001b[1;32m----> 1\u001b[1;33m \u001b[0ms\u001b[0m \u001b[1;33m=\u001b[0m \u001b[0mSeries\u001b[0m\u001b[1;33m(\u001b[0m\u001b[1;33m[\u001b[0m\u001b[1;36m1\u001b[0m\u001b[1;33m,\u001b[0m\u001b[1;36m2\u001b[0m\u001b[1;33m,\u001b[0m\u001b[1;33m-\u001b[0m\u001b[1;36m1\u001b[0m\u001b[1;33m,\u001b[0m\u001b[1;36m3\u001b[0m\u001b[1;33m]\u001b[0m\u001b[1;33m,\u001b[0m \u001b[0mindex\u001b[0m\u001b[1;33m=\u001b[0m\u001b[1;33m[\u001b[0m\u001b[1;34m'a'\u001b[0m\u001b[1;33m,\u001b[0m \u001b[1;34m'b'\u001b[0m\u001b[1;33m,\u001b[0m \u001b[1;34m'c'\u001b[0m\u001b[1;33m,\u001b[0m \u001b[1;34m'd'\u001b[0m\u001b[1;33m]\u001b[0m\u001b[1;33m)\u001b[0m\u001b[1;33m\u001b[0m\u001b[0m\n\u001b[0m\u001b[0;32m      2\u001b[0m \u001b[0ms_than_0\u001b[0m \u001b[1;33m=\u001b[0m \u001b[0ms\u001b[0m\u001b[1;33m[\u001b[0m\u001b[0ms\u001b[0m\u001b[1;33m>\u001b[0m\u001b[1;36m0\u001b[0m\u001b[1;33m]\u001b[0m\u001b[1;33m\u001b[0m\u001b[0m\n",
        "\u001b[1;31mNameError\u001b[0m: name 'Series' is not defined"
       ]
      }
     ],
     "prompt_number": 34
    },
    {
     "cell_type": "code",
     "collapsed": false,
     "input": [
      "import numpy as np\n",
      "import pandas as pd\n",
      "\n",
      "comp1 = np.random.normal(0, 1, size=200)\n",
      "comp2 = np.random.normal(10, 2, size=200)\n",
      "v = np.concatenate([[1,2], [3,4]])\n",
      "values = pd.Series(np.concatenate([comp1, comp2]))\n",
      "values.hist(bins=100, alpha=0.3, color='k', normed=True)\n",
      "values.plot(kind='kde', alpha=0.3, style='k--')"
     ],
     "language": "python",
     "metadata": {},
     "outputs": [
      {
       "output_type": "pyout",
       "prompt_number": 29,
       "text": [
        "<matplotlib.axes.AxesSubplot at 0x5ab3590>"
       ]
      },
      {
       "output_type": "display_data",
       "png": "[encoded data removed]"
      }
     ],
     "prompt_number": 29
    },
    {
     "cell_type": "code",
     "collapsed": false,
     "input": [
      "path = '/media/main/data/source/pydata-book-master/'\n",
      "filename = 'ch08/Haiti.csv'\n",
      "data = pd.read_csv(path+filename)\n",
      "data[['INCIDENT TITLE', 'LATITUDE']][:10]\n",
      "data['CATEGORY'][:10]"
     ],
     "language": "python",
     "metadata": {},
     "outputs": [
      {
       "output_type": "pyout",
       "prompt_number": 40,
       "text": [
        "0          1. Urgences | Emergency, 3. Public Health, \n",
        "1    1. Urgences | Emergency, 2. Urgences logistiqu...\n",
        "2    2. Urgences logistiques | Vital Lines, 8. Autr...\n",
        "3                            1. Urgences | Emergency, \n",
        "4                            1. Urgences | Emergency, \n",
        "5                       5e. Communication lines down, \n",
        "6    4. Menaces | Security Threats, 4e. Assainissem...\n",
        "7                      4. Menaces | Security Threats, \n",
        "8    2. Urgences logistiques | Vital Lines, 2f. San...\n",
        "9    2. Urgences logistiques | Vital Lines, 2d. Ref...\n",
        "Name: CATEGORY"
       ]
      }
     ],
     "prompt_number": 40
    },
    {
     "cell_type": "code",
     "collapsed": false,
     "input": [
      "import pandas as pd\n",
      "\n",
      "path = '/home/brenden/workspace/ongoing/rasingbull/scikit/titanic/'\n",
      "filename = 'titanic.csv'\n",
      "data = pd.read_csv(path+filename)\n",
      "data.pclass = data.pclass.map(lambda x:x[0])\n",
      "data.sex = data.sex.map(lambda x: 1 if x == 'male' else 0)\n",
      "\n",
      "survivied = data[data['survived']==1]\n",
      "s = survivied.pclass.value_counts().sort_index()\n",
      "not_survivied = data[data['survived']==0]\n",
      "ns = not_survivied.pclass.value_counts().sort_index()\n",
      "d = pd.DataFrame({'Survived':s.values, 'No Survived':ns.values}, index=['class 1', 'class 2', 'class 3'])\n",
      "d.plot(kind='barh', stacked=True, alpha=0.5)\n",
      "\n",
      "\n",
      "survivied = data[data['survived']==1]\n",
      "s = survivied.sex.value_counts().sort_index()\n",
      "not_survivied = data[data['survived']==0]\n",
      "ns = not_survivied.sex.value_counts().sort_index()\n",
      "d = pd.DataFrame({'Survived':s.values, 'No Survived':ns.values}, index=['female', 'male'])\n",
      "d.plot(kind='barh', stacked=True, alpha=0.5)\n",
      "\n",
      "g = data.groupby(['survived', 'pclass', 'sex']).size()\n",
      "print g\n",
      "#g.plot(kind='barh', stacked=True, alpha=0.5)\n",
      "print data.columns\n",
      "print data.pclass.cov(data.survived)\n",
      "print data.age.cov(data.survived)\n",
      "print data.sex.cov(data.survived)"
     ],
     "language": "python",
     "metadata": {},
     "outputs": [
      {
       "output_type": "stream",
       "stream": "stdout",
       "text": [
        "survived  pclass  sex\n",
        "0         1       0        5\n",
        "                  1      118\n",
        "          2       0       12\n",
        "                  1      146\n",
        "          3       0      110\n",
        "                  1      418\n",
        "1         1       0      139\n",
        "                  1       61\n",
        "          2       0       94\n",
        "                  1       25\n",
        "          3       0      106\n",
        "                  1       75\n",
        "array([Unnamed: 0, pclass, survived, name, sex, age, sibsp, parch, ticket,\n",
        "       fare, cabin, embarked, boat, body, home.dest], dtype=object)\n",
        "-0.127248313838\n",
        "-0.393455537605\n",
        "-0.123089853122\n"
       ]
      },
      {
       "output_type": "display_data",
       "png": "[encoded data removed]"
      },
      {
       "output_type": "display_data",
       "png": "[encoded data removed]"
      }
     ],
     "prompt_number": 144
    },
    {
     "cell_type": "code",
     "collapsed": false,
     "input": [
      "import pandas as pd\n",
      "\n",
      "path = '/home/brenden/workspace/ongoing/rasingbull/scikit/titanic/'\n",
      "filename = 'titanic.csv'\n",
      "data = pd.read_csv(path+filename)\n",
      "data.pclass = data.pclass.map(lambda x:int(x[0]))\n",
      "data.sex = data.sex.map(lambda x: 1 if x == 'male' else 0)\n",
      "d = data[['survived', 'pclass', 'sex', 'age']]\n",
      "print d.cov()\n",
      "print d.corr()"
     ],
     "language": "python",
     "metadata": {},
     "outputs": [
      {
       "output_type": "stream",
       "stream": "stdout",
       "text": [
        "          survived    pclass       sex         age\n",
        "survived  0.236250 -0.127248 -0.123090   -0.393456\n",
        "pclass   -0.127248  0.701969  0.050011   -4.949878\n",
        "sex      -0.123090  0.050011  0.229438    0.443346\n",
        "age      -0.393456 -4.949878  0.443346  207.748974\n",
        "          survived    pclass       sex       age\n",
        "survived  1.000000 -0.312469 -0.528693 -0.055513\n",
        "pclass   -0.312469  1.000000  0.124617 -0.408106\n",
        "sex      -0.528693  0.124617  1.000000  0.063646\n",
        "age      -0.055513 -0.408106  0.063646  1.000000\n"
       ]
      }
     ],
     "prompt_number": 14
    },
    {
     "cell_type": "code",
     "collapsed": false,
     "input": [
      "from sklearn import datasets as ds\n",
      "import pandas as pd\n",
      "#import matplotlib.pyplot as plt\n",
      "\n",
      "raw_iris = ds.load_iris()\n",
      "data = pd.DataFrame(raw_iris.data, columns=raw_iris.feature_names)\n",
      "target = pd.DataFrame(raw_iris.target, columns=['target'])\n",
      "iris = data.join(target)\n",
      "\n",
      "MEAN = 1\n",
      "SETOSA = 0\n",
      "iris_setosa = iris[iris['target']==SETOSA]\n",
      "iris_setosa.describe().ix[MEAN, :-1].plot(marker='o', label='setosa')\n",
      "\n",
      "#plt.scatter(iris_setosa['sepal length (cm)'], iris_setosa['petal width (cm)'])\n",
      "VERSICOLOUR = 1\n",
      "iris_versicolour = iris[iris['target']==VERSICOLOUR]\n",
      "iris_versicolour.describe().ix[MEAN, :-1].plot(color='r', marker='o', label='versicolour')\n",
      "\n",
      "VIRGINICA = 2\n",
      "iris_virginica = iris[iris['target']==VIRGINICA]\n",
      "iris_virginica.describe().ix[MEAN, :-1].plot(color='k', marker='o', label='virginica')\n",
      "\n",
      "#print iris['sepal length (cm)'].cov(iris.target)\n",
      "#print iris['sepal width (cm)'].cov(iris.target)\n",
      "#print iris['petal length (cm)'].cov(iris.target)\n",
      "#print iris['petal width (cm)'].cov(iris.target)\n",
      "\n",
      "print iris['sepal length (cm)'].corr(iris.target)\n",
      "print iris['sepal width (cm)'].corr(iris.target)\n",
      "print iris['petal length (cm)'].corr(iris.target)\n",
      "print iris['petal width (cm)'].corr(iris.target)\n",
      "\n",
      "# choose two features\n",
      "#print iris.describe().to_string()\n"
     ],
     "language": "python",
     "metadata": {},
     "outputs": [
      {
       "output_type": "stream",
       "stream": "stdout",
       "text": [
        "0.78256123181\n",
        "-0.41944620026\n",
        "0.949042544852\n",
        "0.956463823802\n"
       ]
      },
      {
       "output_type": "display_data",
       "png": "[encoded data removed]"
      }
     ],
     "prompt_number": 47
    },
    {
     "cell_type": "code",
     "collapsed": false,
     "input": [],
     "language": "python",
     "metadata": {},
     "outputs": [],
     "prompt_number": 45
    },
    {
     "cell_type": "code",
     "collapsed": false,
     "input": [],
     "language": "python",
     "metadata": {},
     "outputs": []
    }
   ],
   "metadata": {}
  }
 ]
}
