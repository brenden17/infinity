{
 "metadata": {
  "name": "sympy"
 },
 "nbformat": 3,
 "nbformat_minor": 0,
 "worksheets": [
  {
   "cells": [
    {
     "cell_type": "code",
     "collapsed": false,
     "input": [
      "from sympy import symbols\n",
      "x, y = symbols('x y')\n",
      "expr = x+2*y\n",
      "z = sp.symbols('x+3'\n",
      "x = 1\n",
      "expr**2\n"
     ],
     "language": "python",
     "metadata": {},
     "outputs": [],
     "prompt_number": "*"
    },
    {
     "cell_type": "code",
     "collapsed": false,
     "input": [
      "from sympy import expand, factor\n",
      "expand(expr**9)"
     ],
     "language": "python",
     "metadata": {},
     "outputs": [],
     "prompt_number": "*"
    },
    {
     "cell_type": "code",
     "collapsed": false,
     "input": [
      "from sympy import *\n",
      "from sympy.printing.mathml import print_mathml\n",
      "init_printing() # This will automatically enable the best printer available in your environment.\n",
      "x, y = symbols('x y')\n",
      "y = Integral(sqrt(1/x), x)\n",
      "print latex(y)\n",
      "print_mathml(y)"
     ],
     "language": "python",
     "metadata": {},
     "outputs": [
      {
       "output_type": "stream",
       "stream": "stdout",
       "text": [
        "\\int \\sqrt{\\frac{1}{x}}\\, dx\n",
        "<apply>\n",
        "\t<int/>\n",
        "\t<bvar>\n",
        "\t\t<ci>x</ci>\n",
        "\t</bvar>\n",
        "\t<apply>\n",
        "\t\t<root/>\n",
        "\t\t<apply>\n",
        "\t\t\t<power/>\n",
        "\t\t\t<ci>x</ci>\n",
        "\t\t\t<cn>-1</cn>\n",
        "\t\t</apply>\n",
        "\t</apply>\n",
        "</apply>\n",
        "\n"
       ]
      }
     ],
     "prompt_number": 32
    },
    {
     "cell_type": "markdown",
     "metadata": {},
     "source": [
      "Eq(x+1,4)\n",
      "a = (x+1)**2\n",
      "b = x**2\n",
      "simplify(a - b)\n",
      "Rational(1,2)"
     ]
    },
    {
     "cell_type": "code",
     "collapsed": false,
     "input": [
      "from sympy import *\n",
      "x = symbols('x')\n",
      "expr = x + 1\n",
      "expr.subs(x, 10)\n"
     ],
     "language": "python",
     "metadata": {},
     "outputs": [],
     "prompt_number": "*"
    },
    {
     "cell_type": "markdown",
     "metadata": {},
     "source": [
      "http://certik.github.io/scipy-2013-tutorial/html/tutorial/simplification.html\n",
      "    "
     ]
    },
    {
     "cell_type": "code",
     "collapsed": false,
     "input": [
      "from sympy import *\n",
      "str_expr = 'x**3 + x'\n",
      "expr = sympify(str_expr)\n",
      "expr.subs(x,10)\n",
      "expr\n",
      "expr.subs(x,10)"
     ],
     "language": "python",
     "metadata": {},
     "outputs": [
      {
       "latex": [
        "$$x^{3} + x$$"
       ],
       "output_type": "pyout",
       "png": "[encoded data removed]",
       "prompt_number": 47,
       "text": [
        " 3    \n",
        "x  + x"
       ]
      }
     ],
     "prompt_number": 47
    },
    {
     "cell_type": "code",
     "collapsed": false,
     "input": [
      "from sympy import *\n",
      "expr = sqrt(2)\n",
      "expr\n",
      "expr.evalf()"
     ],
     "language": "python",
     "metadata": {},
     "outputs": [
      {
       "latex": [
        "$$1.4142135623731$$"
       ],
       "output_type": "pyout",
       "png": "[encoded data removed]",
       "prompt_number": 53,
       "text": [
        "1.41421356237310"
       ]
      }
     ],
     "prompt_number": 53
    },
    {
     "cell_type": "code",
     "collapsed": false,
     "input": [
      "expr = sympify('x*y + x - 3 + 2*x**2 - z*x**2 + x**3')\n",
      "expr\n",
      "ce = collect(expr, x)\n",
      "ce.coeff(x,3)\n",
      "ce.coeff(x,2)\n",
      "\n"
     ],
     "language": "python",
     "metadata": {},
     "outputs": [
      {
       "latex": [
        "$$- z + 2$$"
       ],
       "output_type": "pyout",
       "png": "[encoded data removed]",
       "prompt_number": 59,
       "text": [
        "-z + 2"
       ]
      }
     ],
     "prompt_number": 59
    },
    {
     "cell_type": "code",
     "collapsed": false,
     "input": [
      "ln(x)\n",
      "expand_log(ln(x*y))"
     ],
     "language": "python",
     "metadata": {},
     "outputs": [
      {
       "latex": [
        "$$\\log{\\left (x \\int \\sqrt{\\frac{1}{x}}\\, dx \\right )}$$"
       ],
       "output_type": "pyout",
       "png": "[encoded data removed]",
       "prompt_number": 66,
       "text": [
        "   \u239b  \u2320           \u239e\n",
        "   \u239c  \u23ae     ___   \u239f\n",
        "   \u239c  \u23ae    \u2571 1    \u239f\n",
        "log\u239cx\u22c5\u23ae   \u2571  \u2500  dx\u239f\n",
        "   \u239c  \u23ae \u2572\u2571   x    \u239f\n",
        "   \u239d  \u2321           \u23a0"
       ]
      }
     ],
     "prompt_number": 66
    },
    {
     "cell_type": "code",
     "collapsed": false,
     "input": [
      "factorial(x)"
     ],
     "language": "python",
     "metadata": {},
     "outputs": [
      {
       "latex": [
        "$$x!$$"
       ],
       "output_type": "pyout",
       "png": "[encoded data removed]",
       "prompt_number": 67,
       "text": [
        "x!"
       ]
      }
     ],
     "prompt_number": 67
    },
    {
     "cell_type": "code",
     "collapsed": false,
     "input": [
      "n,k = symbols('n k')\n",
      "binomial(n, k)"
     ],
     "language": "python",
     "metadata": {},
     "outputs": [
      {
       "latex": [
        "$${\\binom{n}{k}}$$"
       ],
       "output_type": "pyout",
       "png": "[encoded data removed]",
       "prompt_number": 69,
       "text": [
        "\u239bn\u239e\n",
        "\u239c \u239f\n",
        "\u239dk\u23a0"
       ]
      }
     ],
     "prompt_number": 69
    },
    {
     "cell_type": "code",
     "collapsed": false,
     "input": [
      "def list2fac(l):\n",
      "    expr= Integer(0)\n",
      "    for i in reversed(l[1:]):\n",
      "        expr += i\n",
      "        expr = 1/expr\n",
      "    return l[0] + expr\n",
      "x,y,z = symbols('x y z')\n",
      "list2fac([x,y,z])"
     ],
     "language": "python",
     "metadata": {},
     "outputs": [
      {
       "latex": [
        "$$x + \\frac{1}{y + \\frac{1}{z}}$$"
       ],
       "output_type": "pyout",
       "png": "[encoded data removed]",
       "prompt_number": 72,
       "text": [
        "      1  \n",
        "x + \u2500\u2500\u2500\u2500\u2500\n",
        "        1\n",
        "    y + \u2500\n",
        "        z"
       ]
      }
     ],
     "prompt_number": 72
    },
    {
     "cell_type": "markdown",
     "metadata": {},
     "source": [
      "http://certik.github.io/scipy-2013-tutorial/html/tutorial/calculus.html"
     ]
    },
    {
     "cell_type": "code",
     "collapsed": false,
     "input": [
      "p = Limit(sin(x),x,0)\n",
      "p\n",
      "#compare\n",
      "q = limit(sin(x), x, 0)\n",
      "p, q"
     ],
     "language": "python",
     "metadata": {},
     "outputs": [
      {
       "latex": [
        "$$\\begin{pmatrix}\\lim_{x \\to 0} \\sin{\\left (x \\right )}, & 0\\end{pmatrix}$$"
       ],
       "output_type": "pyout",
       "prompt_number": 85,
       "text": [
        "\u239blim sin(x), 0\u239e\n",
        "\u239dx->0         \u23a0"
       ]
      }
     ],
     "prompt_number": 85
    },
    {
     "cell_type": "code",
     "collapsed": false,
     "input": [
      "expr = exp(sin(x))\n",
      "expr.series(x, 0,5)\n",
      "expr = exp(x)\n",
      "expr.series(x, 0,5)\n",
      "expr.series(x, 6).removeO()"
     ],
     "language": "python",
     "metadata": {},
     "outputs": [
      {
       "latex": [
        "$$\\frac{1}{120} x^{5} e^{6} + \\frac{1}{24} x^{4} e^{6} + \\frac{1}{6} x^{3} e^{6} + \\frac{1}{2} x^{2} e^{6} + x e^{6} + e^{6}$$"
       ],
       "output_type": "pyout",
       "png": "[encoded data removed]",
       "prompt_number": 100,
       "text": [
        " 5  6    4  6    3  6    2  6            \n",
        "x \u22c5\u212f    x \u22c5\u212f    x \u22c5\u212f    x \u22c5\u212f       6    6\n",
        "\u2500\u2500\u2500\u2500\u2500 + \u2500\u2500\u2500\u2500\u2500 + \u2500\u2500\u2500\u2500\u2500 + \u2500\u2500\u2500\u2500\u2500 + x\u22c5\u212f  + \u212f \n",
        " 120      24      6       2              "
       ]
      }
     ],
     "prompt_number": 100
    },
    {
     "cell_type": "code",
     "collapsed": false,
     "input": [
      "expr"
     ],
     "language": "python",
     "metadata": {},
     "outputs": [
      {
       "latex": [
        "$$e^{\\sin{\\left (x \\right )}}$$"
       ],
       "output_type": "pyout",
       "png": "[encoded data removed]",
       "prompt_number": 87,
       "text": [
        " sin(x)\n",
        "\u212f      "
       ]
      }
     ],
     "prompt_number": 87
    },
    {
     "cell_type": "markdown",
     "metadata": {},
     "source": [
      "http://certik.github.io/scipy-2013-tutorial/html/gotchas.html"
     ]
    }
   ],
   "metadata": {}
  }
 ]
}