{
 "metadata": {
  "name": "",
  "signature": "sha256:b6503df2bfd82df105fe45869bb69cfbcc8a6dc7c79e5418afde75e7b953b488"
 },
 "nbformat": 3,
 "nbformat_minor": 0,
 "worksheets": [
  {
   "cells": [
    {
     "cell_type": "code",
     "collapsed": false,
     "input": [
      "from functools import partial\n",
      "def add(a, b):\n",
      "\t\"\"\"Add a to b\"\"\"\n",
      "\treturn a + b\n",
      "add_one = partial(add, 1)\n",
      "add_one(10) # 11\n"
     ],
     "language": "python",
     "metadata": {},
     "outputs": [
      {
       "metadata": {},
       "output_type": "pyout",
       "prompt_number": 1,
       "text": [
        "11"
       ]
      }
     ],
     "prompt_number": 1
    },
    {
     "cell_type": "code",
     "collapsed": false,
     "input": [
      "print add.__name__\n",
      "print add.__doc__\n",
      "print add_one\n",
      "#print add_one.__name__\n",
      "#print add_one.__doc__\n"
     ],
     "language": "python",
     "metadata": {},
     "outputs": [
      {
       "output_type": "stream",
       "stream": "stdout",
       "text": [
        "add\n",
        "Add a to b\n",
        "<functools.partial object at 0x3a4d208>\n"
       ]
      }
     ],
     "prompt_number": 2
    },
    {
     "cell_type": "code",
     "collapsed": false,
     "input": [
      "from functools import update_wrapper\n",
      "update_wrapper(add_one, add)\n",
      "print add_one.__name__\n",
      "print add_one.__doc__"
     ],
     "language": "python",
     "metadata": {},
     "outputs": [
      {
       "output_type": "stream",
       "stream": "stdout",
       "text": [
        "add\n",
        "Add a to b\n"
       ]
      }
     ],
     "prompt_number": 3
    },
    {
     "cell_type": "code",
     "collapsed": false,
     "input": [
      "from functools import wraps\n",
      "def my_decorator(f):\n",
      "    @wraps(f)\n",
      "    def wrapper(*args, **kwarg):\n",
      "        return f(*args, **kwarg)\n",
      "    return wrapper\n",
      "\n",
      "@my_decorator\n",
      "def example():\n",
      "    \"\"\"doc of example\"\"\"\n",
      "    print 'asdfasdf'\n",
      "    return 1\n",
      "\n",
      "print example.__name__\n",
      "print example.__doc__"
     ],
     "language": "python",
     "metadata": {},
     "outputs": [
      {
       "output_type": "stream",
       "stream": "stdout",
       "text": [
        "example\n",
        "doc of example\n"
       ]
      }
     ],
     "prompt_number": 6
    },
    {
     "cell_type": "code",
     "collapsed": false,
     "input": [],
     "language": "python",
     "metadata": {},
     "outputs": []
    }
   ],
   "metadata": {}
  }
 ]
}