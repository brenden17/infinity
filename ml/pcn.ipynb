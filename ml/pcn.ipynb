{
 "metadata": {
  "name": "pcn"
 },
 "nbformat": 3,
 "nbformat_minor": 0,
 "worksheets": [
  {
   "cells": [
    {
     "cell_type": "code",
     "collapsed": false,
     "input": [
      "import numpy as np\n",
      "\n",
      "class PCN(object):\n",
      "    def __init__(self, data, target, n=1000, theta=0.35):\n",
      "        m, n = data.shape\n",
      "        self.weight = np.random.rand(n+1)[:,np.newaxis]\n",
      "        self.data = np.hstack((data, -np.ones((m, 1))))\n",
      "        self.target = target[:, np.newaxis]\n",
      "        self.n = n\n",
      "        self.theta = theta\n",
      "                                  \n",
      "    def fwd(self):\n",
      "        r = np.dot(self.data, self.weight)\n",
      "        return np.where(r>0.5, 1, 0)\n",
      "               \n",
      "    def train(self):\n",
      "        for i in range(self.n):\n",
      "            self.weight = self.weight - self.theta * np.dot(np.transpose(self.data), self.fwd())\n",
      "            #self.weight = self.weight - self.theta * np.dot(np.transpose(self.data), self.fwd()) * 0.1 - 0.05\n",
      "        \n",
      "    def test(self, test_data):\n",
      "        data = np.hstack((test_data, -np.ones(1)))\n",
      "        return 1 if np.dot(data, self.weight)>0.5 else 0\n",
      "    \n",
      "data = np.array([[0, 0], [1, 0], [0, 1], [1, 1]])\n",
      "target = np.array([0, 1, 1, 1])\n",
      "\n",
      "pcn = PCN(data, target, n=4)\n",
      "pcn.train()\n",
      "print pcn.test(np.array([-1,-1]))\n",
      "print pcn.test(np.array([2,0]))\n",
      "print pcn.test(np.array([12,12]))"
     ],
     "language": "python",
     "metadata": {},
     "outputs": [
      {
       "output_type": "stream",
       "stream": "stdout",
       "text": [
        "0\n",
        "0\n",
        "1\n"
       ]
      }
     ],
     "prompt_number": 6
    },
    {
     "cell_type": "code",
     "collapsed": false,
     "input": [
      "class MLP(object):\n",
      "    def __init__(self):\n",
      "        pass\n",
      "    "
     ],
     "language": "python",
     "metadata": {},
     "outputs": [],
     "prompt_number": 2
    },
    {
     "cell_type": "code",
     "collapsed": false,
     "input": [
      "import numpy as np\n",
      "a = np.array([[1], [2],[3],[4]])\n",
      "b = np.array([[11], [22],[33],[44]])\n",
      "a\n",
      "a*b"
     ],
     "language": "python",
     "metadata": {},
     "outputs": [
      {
       "output_type": "pyout",
       "prompt_number": 6,
       "text": [
        "array([[ 11],\n",
        "       [ 44],\n",
        "       [ 99],\n",
        "       [176]])"
       ]
      }
     ],
     "prompt_number": 6
    },
    {
     "cell_type": "code",
     "collapsed": false,
     "input": [],
     "language": "python",
     "metadata": {},
     "outputs": []
    }
   ],
   "metadata": {}
  }
 ]
}